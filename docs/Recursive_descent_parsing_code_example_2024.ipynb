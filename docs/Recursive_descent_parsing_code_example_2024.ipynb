{
 "cells": [
  {
   "attachments": {},
   "cell_type": "markdown",
   "metadata": {},
   "source": [
    "#### Recursive Descent Parsing\n",
    "CS 236 <br>\n",
    "Fall 2024\n",
    "\n",
    "Brigham Young University <br>\n",
    "September 2024\n",
    "***"
   ]
  },
  {
   "attachments": {},
   "cell_type": "markdown",
   "metadata": {},
   "source": [
    "Consider the following LL(1) Grammar\n",
    "* $E \\rightarrow N \\ | \\ OEE$\n",
    "* $O \\rightarrow +\\ |\\ *$ \n",
    "* $N \\rightarrow 0\\ |\\ 1\\ |\\ 2\\ |\\ 3$\n",
    "\n",
    "The starting non-terminal is $E$\n",
    "\n",
    "The first sets are\n",
    "* $FIRST(OEE) = FIRST(O) = \\{+,*\\}$\n",
    "* $FIRST(N) = \\{0,1,2,3\\}$\n",
    "\n",
    "***"
   ]
  },
  {
   "cell_type": "markdown",
   "metadata": {},
   "source": [
    "The slides from class showed how to construct the following parse table for this grammar.\n",
    "\n",
    "|       | **+** | *     | **0** | **1** | **2** | **3** |  **#** |\n",
    "|:-----:|:-----:|:-----:|:-----:|:-----:|:-----:|:-----:|:------:|\n",
    "| **E** |  OEE  |  OEE  |   D   |   D   |   D   |   D   |        |\n",
    "| **O** |   +   |   *   |       |       |       |       |        |\n",
    "| **D** |       |       |   0   |   1   |   2   |   3   |        |\n",
    "| **+** | AdPop |       |       |       |       |       |        |\n",
    "| *     |       | AdPop |       |       |       |       |        |\n",
    "| **0** |       |       | AdPop |       |       |       |        |\n",
    "| **1** |       |       |       | AdPop |       |       |        |\n",
    "| **2** |       |       |       |       | AdPop |       |        |\n",
    "| **3** |       |       |       |       |       | AdPop |        |\n",
    "| **#** |       |       |       |       |       |       | accept |\n",
    "\n",
    "Recall that the leftmost column represents what is on the stack and the topmost row represents the current input.\n",
    "\n",
    "The other parts of the table give instructions on what to do with the stack and the input. For example, when the top of the stack is **E** and the input is **+** the parse table says \"pop **E** from the stack, push **OEE** onto the stack, and do nothing with the input.\" For another example, when the top of the stack is **+** and the input is **+** the table says \"pop **+** from the stack, don't push anything onto the stack, and advance the input.\"\n",
    "\n",
    "Managing the stack is unnecessary, and implementing a parser using a table can require a huge parse table. There is a better way, _Recursive Descent Parsing_ (RDP). RDP uses recursion so that the computer's operating system is responsible for managing the stack. The result is elegant, easily understood code. The trick is to figure out how to manage the stack and the input in such a way that the things specified in the table are handled properly.\n",
    "\n",
    "---"
   ]
  },
  {
   "attachments": {},
   "cell_type": "markdown",
   "metadata": {},
   "source": [
    "Let's construct a class for the recursive descent parser (RDP). The RDP will need to manage both the stack and the input.\n",
    "\n",
    "- **Stack** The key idea is to create a function for each nonterminal. Calling the function _pushes_ the function onto the stack, and returning from the function _pops_ the function from the stack. \n",
    "- **Input** The proper way to handle an input depends on what is on top of the stack. For example, we don't advance an **3** input if an **E** is at the top of the stack, but we do advance if a **3** is at the top of the stack. \n",
    "\n",
    "We'll show two ways for managing when an input is advanced.\n",
    "\n",
    "---\n"
   ]
  },
  {
   "cell_type": "markdown",
   "metadata": {},
   "source": [
    "#### Method 1: Define a function for each nonterminal and each terminal\n",
    "\n",
    "The first method isn't the most efficient, but it does match up very closely with the parse table above. The key idea is that we'll define a function for each thing that can be on the stack. Looking at the parse table above, we see that both terminals and nonterminals can appear on the stack.\n",
    "\n",
    "Let's define a class called Grammar that defines a function for each nonterminal and terminal. We'll first sketch the class, meaning we'll look at the structure before we implement any of the functions. Recall that a grammar is a tuple made up of a terminals, non-terminals, a starting non-terminal, and a set of productions. Look for each of these elements in the class below."
   ]
  },
  {
   "cell_type": "code",
   "execution_count": 23,
   "metadata": {},
   "outputs": [],
   "source": [
    "class Grammar:\n",
    "    def __init__(self) -> None:\n",
    "        ###################################\n",
    "        # Tuple defining an LL(1) grammar #\n",
    "        # • set of nonterminals           #\n",
    "        # • set of terminals              #\n",
    "        # • starting nonterminal          #\n",
    "        # • set of productions            #\n",
    "        ###################################\n",
    "        self.nonterminals: set[str] = {'E', 'O', 'N'}  # set of nonterminals. Each nonterminal will have its own function\n",
    "        self.terminals: set[str] = {'+', '*', '0', '1', '2', '3'}  # set of terminals\n",
    "        self.starting_nonterminal: function[[], None] = self.E_nonterminal  # Starting nonterminal\n",
    "        # Productions                               # Defined in the functions\n",
    "\n",
    "    ################################################################\n",
    "    # Each nonterminal gets its own function.                      #\n",
    "    # The function knows which productions have the nonterminal on #\n",
    "    # the left hand side of the production. The correct right      #\n",
    "    # hand side of the production is chosen by looking at the      #\n",
    "    # current input and the FIRST set of the right hand side       #\n",
    "    ################################################################\n",
    "    def E_nonterminal(self) -> None:\n",
    "        \"\"\" Production E--> N | OEE \"\"\"\n",
    "        raise NotImplementedError\n",
    "    \n",
    "    def N_nonterminal(self) -> None:\n",
    "        \"\"\" Production N --> 0 | 1 | 2 | 3 \"\"\"\n",
    "        raise NotImplementedError\n",
    "    \n",
    "    def O_nonterminal(self) -> None:\n",
    "        \"\"\" Production O --> + | * \"\"\"\n",
    "        raise NotImplementedError\n",
    "    \n",
    "    def plus_terminal(self) -> None:\n",
    "        \"\"\" Called when the + should be pushed onto the stack \"\"\"\n",
    "        raise NotImplementedError\n",
    "    \n",
    "    def star_terminal(self) -> None:\n",
    "        \"\"\" Called when the * should be pushed onto the stack \"\"\"\n",
    "        raise NotImplementedError\n",
    "    \n",
    "    def zero_terminal(self) -> None:\n",
    "        \"\"\" Called when the 0 should be pushed onto the stack \"\"\"\n",
    "        raise NotImplementedError\n",
    "    \n",
    "    def one_terminal(self) -> None:\n",
    "        \"\"\" Called when the 1 should be pushed onto the stack \"\"\"\n",
    "        raise NotImplementedError\n",
    "    \n",
    "    def two_terminal(self) -> None:\n",
    "        \"\"\" Called when the 2 should be pushed onto the stack \"\"\"\n",
    "        raise NotImplementedError\n",
    "    \n",
    "    def three_terminal(self) -> None:\n",
    "        \"\"\" Called when the 3 should be pushed onto the stack \"\"\"\n",
    "        raise NotImplementedError\n"
   ]
  },
  {
   "cell_type": "markdown",
   "metadata": {},
   "source": [
    "The important thing to notice is that there is a function for each terminal and non-terminal. We now need to define these functions. \n",
    "\n",
    "Recall that the instructions for the parse table used FIRST sets. Specifically, if the input character was in the FIRST set of the righthand side of a production then that production was correct. We'll now explicitly define FIRST sets for each production.\n",
    "\n",
    "Since FIRST sets are something used in parsing and are not part of the definition of a grammar per se, we'll change the name of the class to _Parser_."
   ]
  },
  {
   "cell_type": "code",
   "execution_count": 44,
   "metadata": {},
   "outputs": [],
   "source": [
    "from typing import Callable as function\n",
    "class Parser:\n",
    "    def __init__(self) -> None:\n",
    "        ###################################\n",
    "        # Tuple defining an LL(1) grammar #\n",
    "        # • set of nonterminals           #\n",
    "        # • set of terminals              #\n",
    "        # • starting nonterminal          #\n",
    "        # • set of productions            #\n",
    "        ###################################\n",
    "        self.nonterminals: set[str] = {'E', 'O', 'N'}  # set of nonterminals. Each nonterminal will have its own function\n",
    "        self.terminals: set[str] = {'+', '*', '0', '1', '2', '3'}  # set of terminals\n",
    "        self.starting_nonterminal: function[[], None] = self.E_nonterminal  # Starting nonterminal\n",
    "        # Productions                               # Defined in the functions\n",
    "\n",
    "    ################################################################\n",
    "    # Each nonterminal gets its own function.                      #\n",
    "    # The function knows which productions have the nonterminal on #\n",
    "    # the left hand side of the production. The correct right      #\n",
    "    # hand side of the production is chosen by looking at the      #\n",
    "    # current input and the FIRST set of the right hand side       #\n",
    "    ################################################################\n",
    "    def E_nonterminal(self) -> None:\n",
    "        \"\"\" Production E--> N | OEE \"\"\"\n",
    "        ################################################################\n",
    "        # Define FIRST sets for the right hand side of each production #\n",
    "        ################################################################\n",
    "        first: dict[str, set[str]] = dict()\n",
    "        first['OEE'] = {'+', '-'}\n",
    "        first['N'] = {'0', '1', '2', '3'}\n",
    "        \n",
    "        pass # I'm using this to indicate that the function is not complete \n",
    "    \n",
    "    def N_nonterminal(self) -> None:\n",
    "        \"\"\" Production N --> 0 | 1 | 2 | 3 \"\"\"\n",
    "        first: dict[str, set[str]] = dict()\n",
    "        first['0'] = {'0'}\n",
    "        first['1'] = {'1'}\n",
    "        first['2'] = {'2'}\n",
    "        first['3'] = {'3'}\n",
    "        \n",
    "        pass # I'm using this to indicate that the function is not complete \n",
    "    \n",
    "    def O_nonterminal(self) -> None:\n",
    "        \"\"\" Production O --> + | * \"\"\"\n",
    "        first: dict[str, set[str]] = dict()\n",
    "        first['+'] = {'+'}\n",
    "        first['*'] = {'*'}\n",
    "        \n",
    "        pass # I'm using this to indicate that the function is not complete \n",
    "\n",
    "    \n",
    "    def plus_terminal(self) -> None:\n",
    "        \"\"\" Called when the + should be pushed onto the stack \"\"\"\n",
    "        raise NotImplementedError\n",
    "    \n",
    "    def star_terminal(self) -> None:\n",
    "        \"\"\" Called when the * should be pushed onto the stack \"\"\"\n",
    "        raise NotImplementedError\n",
    "    \n",
    "    def zero_terminal(self) -> None:\n",
    "        \"\"\" Called when the 0 should be pushed onto the stack \"\"\"\n",
    "        raise NotImplementedError\n",
    "    \n",
    "    def one_terminal(self) -> None:\n",
    "        \"\"\" Called when the 1 should be pushed onto the stack \"\"\"\n",
    "        raise NotImplementedError\n",
    "    \n",
    "    def two_terminal(self) -> None:\n",
    "        \"\"\" Called when the 2 should be pushed onto the stack \"\"\"\n",
    "        raise NotImplementedError\n",
    "    \n",
    "    def three_terminal(self) -> None:\n",
    "        \"\"\" Called when the 3 should be pushed onto the stack \"\"\"\n",
    "        raise NotImplementedError"
   ]
  },
  {
   "cell_type": "markdown",
   "metadata": {},
   "source": [
    "Note that the FIRST set of the RHS of a production is just the terminal if the RHS is a terminal. Note further that the functions for the terminals still don't do anything.\n",
    "\n",
    "We've been setting up the Parser class to know how to handle the stack and the input but we haven't defined the input. In the next cell, we'll do three things: \n",
    "- we'll define a _parse_ function that calls the starting nonterminal and let's the recursion happen\n",
    "- we'll pass an input to the this parse class so that it can read and advance the input stream, and\n",
    "- we'll push things onto the stack or pop things from the stack using the instructions in the Parse table\n",
    "\n",
    "We're used to seeing the input as a string, but the starter code uses Pythong _iterators_. Using iterators isn't necessary when the input is a string, but when the input is a list of tokens then using iterators is very convenient. A good prompt for a google search is \"Python iterators tutorial\" and a good prompts for a LLM query is \"Teach me how to use iterators in Python\". The important thing to keep in mind is that iterators have a built in function called _next_. When _next_ is called, two things happen: First, the first unprocessed value is output. Second, the iterator advances and points to the next unprocessed value. If we try to advance to the next input and every value has been processed, a _StopIteration_ exception is thrown."
   ]
  },
  {
   "cell_type": "code",
   "execution_count": 25,
   "metadata": {},
   "outputs": [],
   "source": [
    "from typing import Iterator\n",
    "from typing import Callable as function\n",
    "del Parser\n",
    "class Parser:\n",
    "    def __init__(self) -> None:\n",
    "        ###################################\n",
    "        # Tuple defining an LL(1) grammar #\n",
    "        # • set of nonterminals           #\n",
    "        # • set of terminals              #\n",
    "        # • starting nonterminal          #\n",
    "        # • set of productions            #\n",
    "        ###################################\n",
    "        self.nonterminals: set[str] = {'E', 'O', 'N'}  # set of nonterminals. Each nonterminal will have its own function\n",
    "        self.terminals: set[str] = {'+', '*', '0', '1', '2', '3'}  # set of terminals\n",
    "        self._starting_nonterminal: function[[], None] = self.E_nonterminal  # Starting nonterminal\n",
    "        \n",
    "    def parse(self, input: Iterator) -> None:\n",
    "        self._input = input\n",
    "        self._current_input = next(self._input) # Read the first char and advance the iterator\n",
    "        self._starting_nonterminal() # Start the recursion by calling the starting nonterminal\n",
    "        print(\"If no errors appeared the parse was successful\")\n",
    " \n",
    "    ################################################################\n",
    "    # Each nonterminal gets its own function.                      #\n",
    "    # The function knows which productions have the nonterminal on #\n",
    "    # the left hand side of the production. The correct right      #\n",
    "    # hand side of the production is chosen by looking at the      #\n",
    "    # current input and the FIRST set of the right hand side       #\n",
    "    ################################################################\n",
    "    def E_nonterminal(self) -> None:\n",
    "        \"\"\" Production E--> N | OEE \"\"\"\n",
    "        ################################################################\n",
    "        # Define FIRST sets for the right hand side of each production #\n",
    "        ################################################################\n",
    "        first: dict[str, set[str]] = dict()\n",
    "        first['OEE'] = {'+', '-'}\n",
    "        first['N'] = {'0', '1', '2', '3'}\n",
    "\n",
    "        if self._current_input in first['OEE']:\n",
    "            # Push OEE onto the stack\n",
    "            self.O_nonterminal()\n",
    "            self.E_nonterminal()\n",
    "            self.E_nonterminal()\n",
    "        elif self._current_input in first['N']:\n",
    "            # Push N onto the stack\n",
    "            self.N_nonterminal()\n",
    "        else: \n",
    "            print(\"Something illegal has happened\")\n",
    "\n",
    "        return # Pops this nonterminal from the stack\n",
    "        \n",
    "    def N_nonterminal(self) -> None:\n",
    "        \"\"\" Production N --> 0 | 1 | 2 | 3 \"\"\"\n",
    "        first: dict[str, set[str]] = dict()\n",
    "        first['0'] = {'0'}\n",
    "        first['1'] = {'1'}\n",
    "        first['2'] = {'2'}\n",
    "        first['3'] = {'3'}\n",
    "\n",
    "        if self._current_input in first['0']:\n",
    "            # push zero onto the stack\n",
    "            self.zero_terminal()\n",
    "        elif self._current_input in first['1']:\n",
    "            # push one onto the stack\n",
    "            self.one_terminal()\n",
    "        elif self._current_input in first['2']:\n",
    "            # push two onto the stack\n",
    "            self.two_terminal()\n",
    "        elif self._current_input in first['3']:\n",
    "            # push three onto the stack\n",
    "            self.three_terminal()\n",
    "        else: \n",
    "            print(\"Something illegal has happened\")\n",
    "\n",
    "        return # Pops this nonterminal from the stack\n",
    "    \n",
    "    def O_nonterminal(self) -> None:\n",
    "        \"\"\" Production O --> + | * \"\"\"\n",
    "        first: dict[str, set[str]] = dict()\n",
    "        first['+'] = {'+'}\n",
    "        first['*'] = {'*'}\n",
    "        \n",
    "        if self._current_input in first['+']:\n",
    "            # push + onto the stack\n",
    "            self.plus_terminal()\n",
    "        elif self._current_input in first['*']:\n",
    "            # push * onto the stack\n",
    "            self.star_terminal()\n",
    "        else: \n",
    "            print(\"Something illegal has happened\")\n",
    "\n",
    "        return # Pops this nonterminal from the stack\n",
    "\n",
    "    \n",
    "    def plus_terminal(self) -> None:\n",
    "        \"\"\" Called when the + should be pushed onto the stack \"\"\"\n",
    "        # This function is only called when the current input is +\n",
    "        # Thus, this function is at the top of the stack when the current input is +\n",
    "        # The parse table says we should advance the input and pop the stack\n",
    "        # We advance the input using the next operator\n",
    "        # We pop the stack by returning\n",
    "        self._current_input = next(self._input) # Advance\n",
    "        return # pop the stack\n",
    "    \n",
    "    def star_terminal(self) -> None:\n",
    "        \"\"\" Called when the * should be pushed onto the stack \"\"\"\n",
    "        # This function is only called when the current input is +\n",
    "        # Thus, this function is at the top of the stack when the current input is +\n",
    "        # The parse table says we should advance the input and pop the stack\n",
    "        # We advance the input using the next operator\n",
    "        # We pop the stack by returning\n",
    "        self._current_input = next(self._input) # Advance\n",
    "        return # pop the stack\n",
    "    \n",
    "    def zero_terminal(self) -> None:\n",
    "        \"\"\" Called when the 0 should be pushed onto the stack \"\"\"\n",
    "        # This function is only called when the current input is +\n",
    "        # Thus, this function is at the top of the stack when the current input is +\n",
    "        # The parse table says we should advance the input and pop the stack\n",
    "        # We advance the input using the next operator\n",
    "        # We pop the stack by returning\n",
    "        self._current_input = next(self._input) # Advance\n",
    "        return # pop the stack\n",
    "    \n",
    "    def one_terminal(self) -> None:\n",
    "        \"\"\" Called when the 1 should be pushed onto the stack \"\"\"\n",
    "        # This function is only called when the current input is +\n",
    "        # Thus, this function is at the top of the stack when the current input is +\n",
    "        # The parse table says we should advance the input and pop the stack\n",
    "        # We advance the input using the next operator\n",
    "        # We pop the stack by returning\n",
    "        self._current_input = next(self._input) # Advance\n",
    "        return # pop the stack\n",
    "    \n",
    "    def two_terminal(self) -> None:\n",
    "        \"\"\" Called when the 2 should be pushed onto the stack \"\"\"\n",
    "        # This function is only called when the current input is +\n",
    "        # Thus, this function is at the top of the stack when the current input is +\n",
    "        # The parse table says we should advance the input and pop the stack\n",
    "        # We advance the input using the next operator\n",
    "        # We pop the stack by returning\n",
    "        self._current_input = next(self._input) # Advance\n",
    "        return # pop the stack\n",
    "    \n",
    "    def three_terminal(self) -> None:\n",
    "        \"\"\" Called when the 3 should be pushed onto the stack \"\"\"\n",
    "        # This function is only called when the current input is +\n",
    "        # Thus, this function is at the top of the stack when the current input is +\n",
    "        # The parse table says we should advance the input and pop the stack\n",
    "        # We advance the input using the next operator\n",
    "        # We pop the stack by returning\n",
    "        self._current_input = next(self._input) # Advance\n",
    "        return # pop the stack"
   ]
  },
  {
   "cell_type": "markdown",
   "metadata": {},
   "source": [
    "Notice how the function for each nonterminal does the same kind of check. Let $X$ denote the nonterminal. When the nonterminal function is called, its job is to see which production involving $X$ should be applied. Assume that there are two productions with $X$ on the LHS side:\n",
    "\n",
    "- $X \\rightarrow Y$\n",
    "- $X \\rightarrow Z$\n",
    "\n",
    "Each nonterminal function checks to see if the input is in the first set of the righthand side of one of the productions. If so, it pushes nonterminal $Y$ or $Z$ onto the stack by calling it. If the current input is not any FIRST set, it reports an error.\n",
    "\n",
    "Notice how the function for ech terminal does the same thing: it advances the input and pops the stack.\n",
    "\n",
    "If we've implemented this correctly, we should not see any errors if we try to parse the input \"23+\" and we should see an error if we try and parse the input \"2\""
   ]
  },
  {
   "cell_type": "code",
   "execution_count": 26,
   "metadata": {},
   "outputs": [
    {
     "name": "stdout",
     "output_type": "stream",
     "text": [
      "If no errors appeared the parse was successful\n"
     ]
    }
   ],
   "source": [
    "parser = Parser()\n",
    "input = iter(\"+23#\")\n",
    "parser.parse(input)"
   ]
  },
  {
   "cell_type": "markdown",
   "metadata": {},
   "source": [
    "Try a different input"
   ]
  },
  {
   "cell_type": "code",
   "execution_count": 28,
   "metadata": {},
   "outputs": [
    {
     "name": "stdout",
     "output_type": "stream",
     "text": [
      "If no errors appeared the parse was successful\n"
     ]
    }
   ],
   "source": [
    "input = iter(\"2#\")\n",
    "parser.parse(input)"
   ]
  },
  {
   "cell_type": "markdown",
   "metadata": {},
   "source": [
    "What happened? The parse was successful because you can derive \"2\" from the starting nonterminal. Here's the derivation: $E \\Rightarrow N \\Rightarrow 2$\n",
    "\n",
    "Let's try an input that should fail."
   ]
  },
  {
   "cell_type": "code",
   "execution_count": 30,
   "metadata": {},
   "outputs": [
    {
     "name": "stdout",
     "output_type": "stream",
     "text": [
      "Something illegal has happened\n",
      "If no errors appeared the parse was successful\n"
     ]
    }
   ],
   "source": [
    "input = iter(\"+2#\")\n",
    "parser.parse(input)"
   ]
  },
  {
   "cell_type": "markdown",
   "metadata": {},
   "source": [
    "And another input that should fail."
   ]
  },
  {
   "cell_type": "code",
   "execution_count": 31,
   "metadata": {},
   "outputs": [
    {
     "name": "stdout",
     "output_type": "stream",
     "text": [
      "If no errors appeared the parse was successful\n"
     ]
    }
   ],
   "source": [
    "input = iter(\"+012#\")\n",
    "parser.parse(input)"
   ]
  },
  {
   "cell_type": "markdown",
   "metadata": {},
   "source": [
    "That is not right. There were still inputs to be read. \n",
    "\n",
    "Let's spruce up the class to handle these errors. Our \"sprucing up\" will be done using a useful Python feature: the ability to define our own exceptions. We'll begin by defining the exception. This is done by inheriting from the Python's base exception class."
   ]
  },
  {
   "cell_type": "code",
   "execution_count": 32,
   "metadata": {},
   "outputs": [],
   "source": [
    "class ParseErrorException(Exception):\n",
    "    \"\"\" Class for parsing errors.\n",
    "    \n",
    "    A parse error is when any of the following errors occur:\n",
    "       1. the current input is not in the FIRST set of any production\n",
    "       2. we expect to see another input but all the inputs have been processed\n",
    "       3. we have processed everthing on the stack but still have inputs. \"\"\"\n",
    "    \n",
    "    def __init__(self, message: str = \"A parse error occurred \") -> None:\n",
    "        super().__init__(message)\n",
    "        self._message = message"
   ]
  },
  {
   "cell_type": "markdown",
   "metadata": {},
   "source": [
    "This class allows us to exit the parser whenever we want and report what caused the error. The default error message is not very informative since it simply says that a parse error has occurred. We'll throw _ParseErrorException_ whenever we detect a parse error.  Look for it in two types of places in the code:\n",
    "- in the nonterminal functions when an input isn't in any first set (replacing the simple print statement when there is an error)\n",
    "- in the parse function where it checks to see if there are any more inputs to read\n"
   ]
  },
  {
   "cell_type": "code",
   "execution_count": 34,
   "metadata": {},
   "outputs": [],
   "source": [
    "from typing import Iterator\n",
    "from typing import Callable as function\n",
    "class Parser:\n",
    "    def __init__(self) -> None:\n",
    "        ###################################\n",
    "        # Tuple defining an LL(1) grammar #\n",
    "        # • set of nonterminals           #\n",
    "        # • set of terminals              #\n",
    "        # • starting nonterminal          #\n",
    "        # • set of productions            #\n",
    "        ###################################\n",
    "        self.nonterminals: set[str] = {'E', 'O', 'N'}  # set of nonterminals. Each nonterminal will have its own function\n",
    "        self.terminals: set[str] = {'+', '*', '0', '1', '2', '3'}  # set of terminals\n",
    "        self._starting_nonterminal: function[[], None] = self.E_nonterminal  # Starting nonterminal\n",
    "        \n",
    "    def parse(self, input: Iterator) -> None:\n",
    "        self._input = input\n",
    "        self._current_input = next(self._input) # Read the first char and advance the iterator\n",
    "        self._starting_nonterminal() # Start the recursion by calling the starting nonterminal\n",
    "        \n",
    "        if self._current_input == '#':\n",
    "            print(\"Parse successful\")\n",
    "        else:\n",
    "            raise ParseErrorException(\"At least one input was unprocessed\")\n",
    "        \n",
    "        return\n",
    "    \n",
    " \n",
    "    ################################################################\n",
    "    # Each nonterminal gets its own function.                      #\n",
    "    # The function knows which productions have the nonterminal on #\n",
    "    # the left hand side of the production. The correct right      #\n",
    "    # hand side of the production is chosen by looking at the      #\n",
    "    # current input and the FIRST set of the right hand side       #\n",
    "    ################################################################\n",
    "    def E_nonterminal(self) -> None:\n",
    "        \"\"\" Production E--> N | OEE \"\"\"\n",
    "        ################################################################\n",
    "        # Define FIRST sets for the right hand side of each production #\n",
    "        ################################################################\n",
    "        first: dict[str, set[str]] = dict()\n",
    "        first['OEE'] = {'+', '-'}\n",
    "        first['N'] = {'0', '1', '2', '3'}\n",
    "\n",
    "        if self._current_input in first['OEE']:\n",
    "            # Push OEE onto the stack\n",
    "            self.O_nonterminal()\n",
    "            self.E_nonterminal()\n",
    "            self.E_nonterminal()\n",
    "        elif self._current_input in first['N']:\n",
    "            # Push N onto the stack\n",
    "            self.N_nonterminal()\n",
    "        else: \n",
    "            error_message = f\"Input {self._current_input} is not in the first set of nonterminal E\"\n",
    "            raise ParseErrorException(error_message)\n",
    "\n",
    "        return # Pops this nonterminal from the stack\n",
    "        \n",
    "    def N_nonterminal(self) -> None:\n",
    "        \"\"\" Production N --> 0 | 1 | 2 | 3 \"\"\"\n",
    "        first: dict[str, set[str]] = dict()\n",
    "        first['0'] = {'0'}\n",
    "        first['1'] = {'1'}\n",
    "        first['2'] = {'2'}\n",
    "        first['3'] = {'3'}\n",
    "\n",
    "        if self._current_input in first['0']:\n",
    "            # push zero onto the stack\n",
    "            self.zero_terminal()\n",
    "        elif self._current_input in first['1']:\n",
    "            # push one onto the stack\n",
    "            self.one_terminal()\n",
    "        elif self._current_input in first['2']:\n",
    "            # push two onto the stack\n",
    "            self.two_terminal()\n",
    "        elif self._current_input in first['3']:\n",
    "            # push three onto the stack\n",
    "            self.three_terminal()\n",
    "        else: \n",
    "            error_message = f\"Input {self._current_input} is not in the first set of nonterminal N\"\n",
    "            raise ParseErrorException(error_message)\n",
    "\n",
    "        return # Pops this nonterminal from the stack\n",
    "    \n",
    "    def O_nonterminal(self) -> None:\n",
    "        \"\"\" Production O --> + | * \"\"\"\n",
    "        first: dict[str, set[str]] = dict()\n",
    "        first['+'] = {'+'}\n",
    "        first['*'] = {'*'}\n",
    "        \n",
    "        if self._current_input in first['+']:\n",
    "            # push + onto the stack\n",
    "            self.plus_terminal()\n",
    "        elif self._current_input in first['*']:\n",
    "            # push * onto the stack\n",
    "            self.star_terminal()\n",
    "        else: \n",
    "            error_message = f\"Input {self._current_input} is not in the first set of nonterminal O\"\n",
    "            raise ParseErrorException(error_message)\n",
    "\n",
    "        return # Pops this nonterminal from the stack\n",
    "\n",
    "    def plus_terminal(self) -> None:\n",
    "        \"\"\" Called when the + should be pushed onto the stack \"\"\"\n",
    "        # This function is only called when the current input is +\n",
    "        # Thus, this function is at the top of the stack when the current input is +\n",
    "        # The parse table says we should advance the input and pop the stack\n",
    "        # We advance the input using the next operator\n",
    "        # We pop the stack by returning\n",
    "        self._current_input = next(self._input) # Advance\n",
    "        return # pop the stack\n",
    "    \n",
    "    def star_terminal(self) -> None:\n",
    "        \"\"\" Called when the * should be pushed onto the stack \"\"\"\n",
    "        # This function is only called when the current input is +\n",
    "        # Thus, this function is at the top of the stack when the current input is +\n",
    "        # The parse table says we should advance the input and pop the stack\n",
    "        # We advance the input using the next operator\n",
    "        # We pop the stack by returning\n",
    "        self._current_input = next(self._input) # Advance\n",
    "        return # pop the stack\n",
    "    \n",
    "    def zero_terminal(self) -> None:\n",
    "        \"\"\" Called when the 0 should be pushed onto the stack \"\"\"\n",
    "        # This function is only called when the current input is +\n",
    "        # Thus, this function is at the top of the stack when the current input is +\n",
    "        # The parse table says we should advance the input and pop the stack\n",
    "        # We advance the input using the next operator\n",
    "        # We pop the stack by returning\n",
    "        self._current_input = next(self._input) # Advance\n",
    "        return # pop the stack\n",
    "    \n",
    "    def one_terminal(self) -> None:\n",
    "        \"\"\" Called when the 1 should be pushed onto the stack \"\"\"\n",
    "        # This function is only called when the current input is +\n",
    "        # Thus, this function is at the top of the stack when the current input is +\n",
    "        # The parse table says we should advance the input and pop the stack\n",
    "        # We advance the input using the next operator\n",
    "        # We pop the stack by returning\n",
    "        self._current_input = next(self._input) # Advance\n",
    "        return # pop the stack\n",
    "    \n",
    "    def two_terminal(self) -> None:\n",
    "        \"\"\" Called when the 2 should be pushed onto the stack \"\"\"\n",
    "        # This function is only called when the current input is +\n",
    "        # Thus, this function is at the top of the stack when the current input is +\n",
    "        # The parse table says we should advance the input and pop the stack\n",
    "        # We advance the input using the next operator\n",
    "        # We pop the stack by returning\n",
    "        self._current_input = next(self._input) # Advance\n",
    "        return # pop the stack\n",
    "    \n",
    "    def three_terminal(self) -> None:\n",
    "        \"\"\" Called when the 3 should be pushed onto the stack \"\"\"\n",
    "        # This function is only called when the current input is +\n",
    "        # Thus, this function is at the top of the stack when the current input is +\n",
    "        # The parse table says we should advance the input and pop the stack\n",
    "        # We advance the input using the next operator\n",
    "        # We pop the stack by returning\n",
    "        self._current_input = next(self._input) # Advance\n",
    "        return # pop the stack"
   ]
  },
  {
   "cell_type": "markdown",
   "metadata": {},
   "source": [
    "Let's test the same four inputs. Let's first do it with the errors being thrown without us handling them neatly."
   ]
  },
  {
   "cell_type": "code",
   "execution_count": 35,
   "metadata": {},
   "outputs": [
    {
     "name": "stdout",
     "output_type": "stream",
     "text": [
      "Parse successful\n"
     ]
    }
   ],
   "source": [
    "del parser\n",
    "parser = Parser()\n",
    "input = iter(\"+23#\")\n",
    "parser.parse(input)"
   ]
  },
  {
   "cell_type": "code",
   "execution_count": 36,
   "metadata": {},
   "outputs": [
    {
     "name": "stdout",
     "output_type": "stream",
     "text": [
      "Parse successful\n"
     ]
    }
   ],
   "source": [
    "input = iter(\"2#\")\n",
    "parser.parse(input)"
   ]
  },
  {
   "cell_type": "code",
   "execution_count": 37,
   "metadata": {},
   "outputs": [
    {
     "ename": "ParseErrorException",
     "evalue": "Input # is not in the first set of nonterminal E",
     "output_type": "error",
     "traceback": [
      "\u001b[0;31m---------------------------------------------------------------------------\u001b[0m",
      "\u001b[0;31mParseErrorException\u001b[0m                       Traceback (most recent call last)",
      "Cell \u001b[0;32mIn[37], line 2\u001b[0m\n\u001b[1;32m      1\u001b[0m \u001b[38;5;28minput\u001b[39m \u001b[38;5;241m=\u001b[39m \u001b[38;5;28miter\u001b[39m(\u001b[38;5;124m\"\u001b[39m\u001b[38;5;124m+2#\u001b[39m\u001b[38;5;124m\"\u001b[39m)\n\u001b[0;32m----> 2\u001b[0m \u001b[43mparser\u001b[49m\u001b[38;5;241;43m.\u001b[39;49m\u001b[43mparse\u001b[49m\u001b[43m(\u001b[49m\u001b[38;5;28;43minput\u001b[39;49m\u001b[43m)\u001b[49m\n",
      "Cell \u001b[0;32mIn[34], line 23\u001b[0m, in \u001b[0;36mParser.parse\u001b[0;34m(self, input)\u001b[0m\n\u001b[1;32m     21\u001b[0m \u001b[38;5;28mself\u001b[39m\u001b[38;5;241m.\u001b[39m_input \u001b[38;5;241m=\u001b[39m \u001b[38;5;28minput\u001b[39m\n\u001b[1;32m     22\u001b[0m \u001b[38;5;28mself\u001b[39m\u001b[38;5;241m.\u001b[39m_current_input \u001b[38;5;241m=\u001b[39m \u001b[38;5;28mnext\u001b[39m(\u001b[38;5;28mself\u001b[39m\u001b[38;5;241m.\u001b[39m_input) \u001b[38;5;66;03m# Read the first char and advance the iterator\u001b[39;00m\n\u001b[0;32m---> 23\u001b[0m \u001b[38;5;28;43mself\u001b[39;49m\u001b[38;5;241;43m.\u001b[39;49m\u001b[43m_starting_nonterminal\u001b[49m\u001b[43m(\u001b[49m\u001b[43m)\u001b[49m \u001b[38;5;66;03m# Start the recursion by calling the starting nonterminal\u001b[39;00m\n\u001b[1;32m     25\u001b[0m \u001b[38;5;28;01mif\u001b[39;00m \u001b[38;5;28mself\u001b[39m\u001b[38;5;241m.\u001b[39m_current_input \u001b[38;5;241m==\u001b[39m \u001b[38;5;124m'\u001b[39m\u001b[38;5;124m#\u001b[39m\u001b[38;5;124m'\u001b[39m:\n\u001b[1;32m     26\u001b[0m     \u001b[38;5;28mprint\u001b[39m(\u001b[38;5;124m\"\u001b[39m\u001b[38;5;124mParse successful\u001b[39m\u001b[38;5;124m\"\u001b[39m)\n",
      "Cell \u001b[0;32mIn[34], line 53\u001b[0m, in \u001b[0;36mParser.E_nonterminal\u001b[0;34m(self)\u001b[0m\n\u001b[1;32m     51\u001b[0m     \u001b[38;5;28mself\u001b[39m\u001b[38;5;241m.\u001b[39mO_nonterminal()\n\u001b[1;32m     52\u001b[0m     \u001b[38;5;28mself\u001b[39m\u001b[38;5;241m.\u001b[39mE_nonterminal()\n\u001b[0;32m---> 53\u001b[0m     \u001b[38;5;28;43mself\u001b[39;49m\u001b[38;5;241;43m.\u001b[39;49m\u001b[43mE_nonterminal\u001b[49m\u001b[43m(\u001b[49m\u001b[43m)\u001b[49m\n\u001b[1;32m     54\u001b[0m \u001b[38;5;28;01melif\u001b[39;00m \u001b[38;5;28mself\u001b[39m\u001b[38;5;241m.\u001b[39m_current_input \u001b[38;5;129;01min\u001b[39;00m first[\u001b[38;5;124m'\u001b[39m\u001b[38;5;124mN\u001b[39m\u001b[38;5;124m'\u001b[39m]:\n\u001b[1;32m     55\u001b[0m     \u001b[38;5;66;03m# Push N onto the stack\u001b[39;00m\n\u001b[1;32m     56\u001b[0m     \u001b[38;5;28mself\u001b[39m\u001b[38;5;241m.\u001b[39mN_nonterminal()\n",
      "Cell \u001b[0;32mIn[34], line 59\u001b[0m, in \u001b[0;36mParser.E_nonterminal\u001b[0;34m(self)\u001b[0m\n\u001b[1;32m     57\u001b[0m \u001b[38;5;28;01melse\u001b[39;00m: \n\u001b[1;32m     58\u001b[0m     error_message \u001b[38;5;241m=\u001b[39m \u001b[38;5;124mf\u001b[39m\u001b[38;5;124m\"\u001b[39m\u001b[38;5;124mInput \u001b[39m\u001b[38;5;132;01m{\u001b[39;00m\u001b[38;5;28mself\u001b[39m\u001b[38;5;241m.\u001b[39m_current_input\u001b[38;5;132;01m}\u001b[39;00m\u001b[38;5;124m is not in the first set of nonterminal E\u001b[39m\u001b[38;5;124m\"\u001b[39m\n\u001b[0;32m---> 59\u001b[0m     \u001b[38;5;28;01mraise\u001b[39;00m ParseErrorException(error_message)\n\u001b[1;32m     61\u001b[0m \u001b[38;5;28;01mreturn\u001b[39;00m\n",
      "\u001b[0;31mParseErrorException\u001b[0m: Input # is not in the first set of nonterminal E"
     ]
    }
   ],
   "source": [
    "input = iter(\"+2#\")\n",
    "parser.parse(input)"
   ]
  },
  {
   "cell_type": "code",
   "execution_count": 38,
   "metadata": {},
   "outputs": [
    {
     "ename": "ParseErrorException",
     "evalue": "Input = is not in the first set of nonterminal E",
     "output_type": "error",
     "traceback": [
      "\u001b[0;31m---------------------------------------------------------------------------\u001b[0m",
      "\u001b[0;31mParseErrorException\u001b[0m                       Traceback (most recent call last)",
      "Cell \u001b[0;32mIn[38], line 2\u001b[0m\n\u001b[1;32m      1\u001b[0m \u001b[38;5;28minput\u001b[39m \u001b[38;5;241m=\u001b[39m \u001b[38;5;28miter\u001b[39m(\u001b[38;5;124m\"\u001b[39m\u001b[38;5;124m+=12#\u001b[39m\u001b[38;5;124m\"\u001b[39m)\n\u001b[0;32m----> 2\u001b[0m \u001b[43mparser\u001b[49m\u001b[38;5;241;43m.\u001b[39;49m\u001b[43mparse\u001b[49m\u001b[43m(\u001b[49m\u001b[38;5;28;43minput\u001b[39;49m\u001b[43m)\u001b[49m\n",
      "Cell \u001b[0;32mIn[34], line 23\u001b[0m, in \u001b[0;36mParser.parse\u001b[0;34m(self, input)\u001b[0m\n\u001b[1;32m     21\u001b[0m \u001b[38;5;28mself\u001b[39m\u001b[38;5;241m.\u001b[39m_input \u001b[38;5;241m=\u001b[39m \u001b[38;5;28minput\u001b[39m\n\u001b[1;32m     22\u001b[0m \u001b[38;5;28mself\u001b[39m\u001b[38;5;241m.\u001b[39m_current_input \u001b[38;5;241m=\u001b[39m \u001b[38;5;28mnext\u001b[39m(\u001b[38;5;28mself\u001b[39m\u001b[38;5;241m.\u001b[39m_input) \u001b[38;5;66;03m# Read the first char and advance the iterator\u001b[39;00m\n\u001b[0;32m---> 23\u001b[0m \u001b[38;5;28;43mself\u001b[39;49m\u001b[38;5;241;43m.\u001b[39;49m\u001b[43m_starting_nonterminal\u001b[49m\u001b[43m(\u001b[49m\u001b[43m)\u001b[49m \u001b[38;5;66;03m# Start the recursion by calling the starting nonterminal\u001b[39;00m\n\u001b[1;32m     25\u001b[0m \u001b[38;5;28;01mif\u001b[39;00m \u001b[38;5;28mself\u001b[39m\u001b[38;5;241m.\u001b[39m_current_input \u001b[38;5;241m==\u001b[39m \u001b[38;5;124m'\u001b[39m\u001b[38;5;124m#\u001b[39m\u001b[38;5;124m'\u001b[39m:\n\u001b[1;32m     26\u001b[0m     \u001b[38;5;28mprint\u001b[39m(\u001b[38;5;124m\"\u001b[39m\u001b[38;5;124mParse successful\u001b[39m\u001b[38;5;124m\"\u001b[39m)\n",
      "Cell \u001b[0;32mIn[34], line 52\u001b[0m, in \u001b[0;36mParser.E_nonterminal\u001b[0;34m(self)\u001b[0m\n\u001b[1;32m     49\u001b[0m \u001b[38;5;28;01mif\u001b[39;00m \u001b[38;5;28mself\u001b[39m\u001b[38;5;241m.\u001b[39m_current_input \u001b[38;5;129;01min\u001b[39;00m first[\u001b[38;5;124m'\u001b[39m\u001b[38;5;124mOEE\u001b[39m\u001b[38;5;124m'\u001b[39m]:\n\u001b[1;32m     50\u001b[0m     \u001b[38;5;66;03m# Push OEE onto the stack\u001b[39;00m\n\u001b[1;32m     51\u001b[0m     \u001b[38;5;28mself\u001b[39m\u001b[38;5;241m.\u001b[39mO_nonterminal()\n\u001b[0;32m---> 52\u001b[0m     \u001b[38;5;28;43mself\u001b[39;49m\u001b[38;5;241;43m.\u001b[39;49m\u001b[43mE_nonterminal\u001b[49m\u001b[43m(\u001b[49m\u001b[43m)\u001b[49m\n\u001b[1;32m     53\u001b[0m     \u001b[38;5;28mself\u001b[39m\u001b[38;5;241m.\u001b[39mE_nonterminal()\n\u001b[1;32m     54\u001b[0m \u001b[38;5;28;01melif\u001b[39;00m \u001b[38;5;28mself\u001b[39m\u001b[38;5;241m.\u001b[39m_current_input \u001b[38;5;129;01min\u001b[39;00m first[\u001b[38;5;124m'\u001b[39m\u001b[38;5;124mN\u001b[39m\u001b[38;5;124m'\u001b[39m]:\n\u001b[1;32m     55\u001b[0m     \u001b[38;5;66;03m# Push N onto the stack\u001b[39;00m\n",
      "Cell \u001b[0;32mIn[34], line 59\u001b[0m, in \u001b[0;36mParser.E_nonterminal\u001b[0;34m(self)\u001b[0m\n\u001b[1;32m     57\u001b[0m \u001b[38;5;28;01melse\u001b[39;00m: \n\u001b[1;32m     58\u001b[0m     error_message \u001b[38;5;241m=\u001b[39m \u001b[38;5;124mf\u001b[39m\u001b[38;5;124m\"\u001b[39m\u001b[38;5;124mInput \u001b[39m\u001b[38;5;132;01m{\u001b[39;00m\u001b[38;5;28mself\u001b[39m\u001b[38;5;241m.\u001b[39m_current_input\u001b[38;5;132;01m}\u001b[39;00m\u001b[38;5;124m is not in the first set of nonterminal E\u001b[39m\u001b[38;5;124m\"\u001b[39m\n\u001b[0;32m---> 59\u001b[0m     \u001b[38;5;28;01mraise\u001b[39;00m ParseErrorException(error_message)\n\u001b[1;32m     61\u001b[0m \u001b[38;5;28;01mreturn\u001b[39;00m\n",
      "\u001b[0;31mParseErrorException\u001b[0m: Input = is not in the first set of nonterminal E"
     ]
    }
   ],
   "source": [
    "input = iter(\"+=12#\")\n",
    "parser.parse(input)"
   ]
  },
  {
   "cell_type": "markdown",
   "metadata": {},
   "source": [
    "The errors were thrown and the trace of the cause of the error is shown. If we don't want to see what caused the error, we can use a neat Python feature to detect whether exceptions have been thrown. A good LLM prompt is \"Teach me how to use try and except in Python\"."
   ]
  },
  {
   "cell_type": "code",
   "execution_count": 39,
   "metadata": {},
   "outputs": [
    {
     "name": "stdout",
     "output_type": "stream",
     "text": [
      "Parse successful\n"
     ]
    }
   ],
   "source": [
    "del parser\n",
    "parser = Parser()\n",
    "input = iter(\"+23#\")\n",
    "try:\n",
    "    parser.parse(input)\n",
    "except ParseErrorException as message:\n",
    "    print(message)"
   ]
  },
  {
   "cell_type": "code",
   "execution_count": 40,
   "metadata": {},
   "outputs": [
    {
     "name": "stdout",
     "output_type": "stream",
     "text": [
      "Input # is not in the first set of nonterminal E\n"
     ]
    }
   ],
   "source": [
    "input = iter(\"+#\")\n",
    "try:\n",
    "    parser.parse(input)\n",
    "except ParseErrorException as message:\n",
    "    print(message)"
   ]
  },
  {
   "cell_type": "code",
   "execution_count": 41,
   "metadata": {},
   "outputs": [
    {
     "name": "stdout",
     "output_type": "stream",
     "text": [
      "Input # is not in the first set of nonterminal E\n"
     ]
    }
   ],
   "source": [
    "input = iter(\"+2#\")\n",
    "try:\n",
    "    parser.parse(input)\n",
    "except ParseErrorException as message:\n",
    "    print(message)"
   ]
  },
  {
   "cell_type": "code",
   "execution_count": 42,
   "metadata": {},
   "outputs": [
    {
     "name": "stdout",
     "output_type": "stream",
     "text": [
      "At least one input was unprocessed\n"
     ]
    }
   ],
   "source": [
    "input = iter(\"+123#\")\n",
    "try:\n",
    "    parser.parse(input)\n",
    "except ParseErrorException as message:\n",
    "    print(message)"
   ]
  },
  {
   "cell_type": "markdown",
   "metadata": {},
   "source": [
    "---"
   ]
  },
  {
   "cell_type": "markdown",
   "metadata": {},
   "source": [
    "We can see that code tells us whether a string can be derived from a grammar or not, but it might not be clear how the call stack is being used. Let's repeat the first test case \"+23\" but do it in debug mode in the browser. In the following cell, click on the left of the `parser.parse(input)` line. Then, mouse over the left arrow and select \"Debug cell\". Go to the top of the window and click the down arrow. That will start stepping you through the code one line at a time.\n",
    "\n",
    "When you run the debugger, the pane on the left will show the call stack. Notice the following:\n",
    "- how each call to a function pushes the function on the stack and each return from the function pops the function from the stack\n",
    "- how the call stack automatically keeps track of which nonterminals have been processed and which have yet to be processed\n"
   ]
  },
  {
   "cell_type": "code",
   "execution_count": 43,
   "metadata": {},
   "outputs": [
    {
     "name": "stdout",
     "output_type": "stream",
     "text": [
      "Parse successful\n"
     ]
    }
   ],
   "source": [
    "input = iter(\"+23#\")\n",
    "try:\n",
    "    parser.parse(input)\n",
    "except ParseErrorException as message:\n",
    "    print(message)"
   ]
  },
  {
   "cell_type": "markdown",
   "metadata": {},
   "source": [
    "---"
   ]
  },
  {
   "cell_type": "markdown",
   "metadata": {},
   "source": [
    "#### Method 2: Matching inputs\n",
    "\n",
    "You've probably noticed that there is a lot of redundancy across the terminal functions. Each function does the same thing: advances the input and pops the stack. We can do this more efficiently.\n",
    "\n",
    "You've probably also noticed that the FIRST sets for each terminal contain a single element. Checking to see if the terminal is in a set containing a terminal is inefficient. \n",
    "\n",
    "Finally, you've probably also noticed that we don't actually ever use the explicit list of terminals and non-terminals created in the `__init__` function. We'll just remove that part of the code. It was only included so that you could see how the code matched the mathematical tuple.\n",
    "\n",
    "Let's make the code more efficient by directly checking whether an input matches something that we expect to see. If it does, we won't bother pushing the input onto the stack just to pop it off and advance the input. We'll do these by testing whether the input matches what we expect. If it does, we'll advance the input. If it does not, we'll throw an error."
   ]
  },
  {
   "cell_type": "code",
   "execution_count": 47,
   "metadata": {},
   "outputs": [],
   "source": [
    "from typing import Iterator\n",
    "from typing import Callable as function\n",
    "class Parser:\n",
    "    def __init__(self) -> None:\n",
    "        self._starting_nonterminal: function[[], None] = self.E_nonterminal  # Starting nonterminal\n",
    "        \n",
    "    def parse(self, input: Iterator) -> None:\n",
    "        self._input = input\n",
    "        self._current_input = next(self._input) # Read the first char and advance the iterator\n",
    "        self._starting_nonterminal() # Start the recursion by calling the starting nonterminal\n",
    "        \n",
    "        if self._current_input == '#':\n",
    "            print(\"Parse successful\")\n",
    "        else:\n",
    "            raise ParseErrorException(\"At least one input was unprocessed\")\n",
    "        \n",
    "        return\n",
    "    \n",
    " \n",
    "    ################################################################\n",
    "    # Each nonterminal gets its own function.                      #\n",
    "    # The function knows which productions have the nonterminal on #\n",
    "    # the left hand side of the production. The correct right      #\n",
    "    # hand side of the production is chosen by looking at the      #\n",
    "    # current input and the FIRST set of the right hand side       #\n",
    "    ################################################################\n",
    "    def E_nonterminal(self) -> None:\n",
    "        \"\"\" Production E--> N | OEE \"\"\"\n",
    "        ################################################################\n",
    "        # Define FIRST sets for the right hand side of each production #\n",
    "        ################################################################\n",
    "        first: dict[str, set[str]] = dict()\n",
    "        first['OEE'] = {'+', '-'}\n",
    "        first['N'] = {'0', '1', '2', '3'}\n",
    "\n",
    "        if self._current_input in first['OEE']:\n",
    "            # Push OEE onto the stack\n",
    "            self.O_nonterminal()\n",
    "            self.E_nonterminal()\n",
    "            self.E_nonterminal()\n",
    "        elif self._current_input in first['N']:\n",
    "            # Push N onto the stack\n",
    "            self.N_nonterminal()\n",
    "        else: \n",
    "            error_message = f\"Input {self._current_input} is not in the first set of nonterminal E\"\n",
    "            raise ParseErrorException(error_message)\n",
    "\n",
    "        return # Pops this nonterminal from the stack\n",
    "        \n",
    "    def N_nonterminal(self) -> None:\n",
    "        \"\"\" Production N --> 0 | 1 | 2 | 3 \"\"\"\n",
    "        ## Replace the following: \n",
    "        # first: dict[str, set[str]] = dict()\n",
    "        # first['0'] = {'0'}\n",
    "        # first['1'] = {'1'}\n",
    "        # first['2'] = {'2'}\n",
    "        # first['3'] = {'3'}\n",
    "\n",
    "        if self._match('0') or self._match('1') or self._match('2') or self._match('3'):\n",
    "            self._current_input = next(self._input)\n",
    "        else: \n",
    "            error_message = f\"Input {self._current_input} cannot be produced by nonterminal N\"\n",
    "            raise ParseErrorException(error_message)\n",
    "\n",
    "        return # Pops this nonterminal from the stack\n",
    "    \n",
    "    def O_nonterminal(self) -> None:\n",
    "        \"\"\" Production O --> + | * \"\"\"\n",
    "        ## Replace the following \n",
    "        # first: dict[str, set[str]] = dict()\n",
    "        # first['+'] = {'+'}\n",
    "        # first['*'] = {'*'}\n",
    "        \n",
    "        if self._match('+') or self._match('*'):\n",
    "            self._current_input = next(self._input)\n",
    "        else: \n",
    "            error_message = f\"Input {self._current_input} cannot be produced by nonterminal O\"\n",
    "            raise ParseErrorException(error_message)\n",
    "\n",
    "        return # Pops this nonterminal from the stack\n",
    "   \n",
    "    def _match(self, input:str) -> bool:\n",
    "        return self._current_input == input"
   ]
  },
  {
   "cell_type": "markdown",
   "metadata": {},
   "source": [
    "Notice how all the terminal functions are gone.\n",
    "\n",
    "Notice the new function that compares its argument to the current input to see if they match.\n",
    "\n",
    "Notice how the input is advanced whenever the current input matches one of the terminals that can be produced by the nonterminal.\n",
    "\n",
    "Let's test."
   ]
  },
  {
   "cell_type": "code",
   "execution_count": 48,
   "metadata": {},
   "outputs": [
    {
     "name": "stdout",
     "output_type": "stream",
     "text": [
      "Parse successful\n"
     ]
    }
   ],
   "source": [
    "del parser\n",
    "parser = Parser()\n",
    "input = iter(\"+23#\")\n",
    "try:\n",
    "    parser.parse(input)\n",
    "except ParseErrorException as message:\n",
    "    print(message)"
   ]
  },
  {
   "cell_type": "code",
   "execution_count": 49,
   "metadata": {},
   "outputs": [
    {
     "name": "stdout",
     "output_type": "stream",
     "text": [
      "Parse successful\n"
     ]
    }
   ],
   "source": [
    "input = iter(\"2#\")\n",
    "try:\n",
    "    parser.parse(input)\n",
    "except ParseErrorException as message:\n",
    "    print(message)"
   ]
  },
  {
   "cell_type": "code",
   "execution_count": 50,
   "metadata": {},
   "outputs": [
    {
     "name": "stdout",
     "output_type": "stream",
     "text": [
      "At least one input was unprocessed\n"
     ]
    }
   ],
   "source": [
    "input = iter(\"+123#\")\n",
    "try:\n",
    "    parser.parse(input)\n",
    "except ParseErrorException as message:\n",
    "    print(message)"
   ]
  },
  {
   "cell_type": "code",
   "execution_count": 51,
   "metadata": {},
   "outputs": [
    {
     "name": "stdout",
     "output_type": "stream",
     "text": [
      "Input # is not in the first set of nonterminal E\n"
     ]
    }
   ],
   "source": [
    "input = iter(\"+3#\")\n",
    "try:\n",
    "    parser.parse(input)\n",
    "except ParseErrorException as message:\n",
    "    print(message)"
   ]
  }
 ],
 "metadata": {
  "kernelspec": {
   "display_name": "Python 3",
   "language": "python",
   "name": "python3"
  },
  "language_info": {
   "codemirror_mode": {
    "name": "ipython",
    "version": 3
   },
   "file_extension": ".py",
   "mimetype": "text/x-python",
   "name": "python",
   "nbconvert_exporter": "python",
   "pygments_lexer": "ipython3",
   "version": "3.12.5"
  },
  "orig_nbformat": 4,
  "vscode": {
   "interpreter": {
    "hash": "aee8b7b246df8f9039afb4144a1f6fd8d2ca17a180786b69acc140d282b71a49"
   }
  }
 },
 "nbformat": 4,
 "nbformat_minor": 2
}
